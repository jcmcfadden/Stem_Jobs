{
 "cells": [
  {
   "cell_type": "code",
   "execution_count": 36,
   "id": "76539bf5",
   "metadata": {},
   "outputs": [],
   "source": [
    "import pandas as pd\n",
    "import numpy as np"
   ]
  },
  {
   "cell_type": "code",
   "execution_count": 49,
   "id": "19036a90",
   "metadata": {},
   "outputs": [],
   "source": [
    "#create dataframe and add year column\n",
    "fpath1 = 'C:/Users/Jen/Desktop/DesignLab/all_data_M_2014.xlsx' \n",
    "df1 = pd.read_excel(fpath1).query('area==99').reset_index(drop=True)\n",
    "df1['year'] = '2014'"
   ]
  },
  {
   "cell_type": "code",
   "execution_count": 50,
   "id": "8f6e36bb",
   "metadata": {},
   "outputs": [],
   "source": [
    "#append additional year files to dataframe\n",
    "year_list = ['2015', '2016']\n",
    "\n",
    "for year in year_list:\n",
    "    fpath = 'C:/Users/Jen/Desktop/DesignLab/all_data_M_'+year+'.xlsx'\n",
    "    df2 = pd.read_excel(fpath).query('area==99').reset_index(drop=True)\n",
    "    df2['year'] = year\n",
    "    df1 = pd.concat([df1, df2])"
   ]
  },
  {
   "cell_type": "code",
   "execution_count": 53,
   "id": "d64a85e6",
   "metadata": {
    "scrolled": true
   },
   "outputs": [
    {
     "data": {
      "text/plain": [
       "(547741, 30)"
      ]
     },
     "execution_count": 53,
     "metadata": {},
     "output_type": "execute_result"
    }
   ],
   "source": [
    "df1.shape\n"
   ]
  },
  {
   "cell_type": "code",
   "execution_count": 54,
   "id": "f27d5976",
   "metadata": {},
   "outputs": [],
   "source": [
    "#list of STEM classified occupation codes\n",
    "\n",
    "stem_file = 'C:/Users/Jen/Desktop/DesignLab/stem_2021.xlsx'\n",
    "stem_df = pd.read_excel(stem_file, sheet_name=6, header=4) #contains STEM occupation codes\n",
    "stem_list = list(stem_df[\"OEWS May 2021 Code\"]) #add occ codes to list"
   ]
  },
  {
   "cell_type": "code",
   "execution_count": 55,
   "id": "5c60ba4c",
   "metadata": {},
   "outputs": [],
   "source": [
    "#label job as stem or nonstem in dataframe\n",
    "def stem_label (row):\n",
    "    if row['occ code'] in stem_list:\n",
    "        return 'STEM'\n",
    "    else:\n",
    "        return 'nonSTEM'\n",
    "col = df1.apply(stem_label, axis=1) \n",
    "df1 = df1.assign(stem_group=col.values) # assign values to \"stem_group\" column"
   ]
  },
  {
   "cell_type": "code",
   "execution_count": 56,
   "id": "772db5dd",
   "metadata": {},
   "outputs": [
    {
     "data": {
      "text/html": [
       "<div>\n",
       "<style scoped>\n",
       "    .dataframe tbody tr th:only-of-type {\n",
       "        vertical-align: middle;\n",
       "    }\n",
       "\n",
       "    .dataframe tbody tr th {\n",
       "        vertical-align: top;\n",
       "    }\n",
       "\n",
       "    .dataframe thead th {\n",
       "        text-align: right;\n",
       "    }\n",
       "</style>\n",
       "<table border=\"1\" class=\"dataframe\">\n",
       "  <thead>\n",
       "    <tr style=\"text-align: right;\">\n",
       "      <th></th>\n",
       "      <th>area</th>\n",
       "      <th>area_title</th>\n",
       "      <th>area_type</th>\n",
       "      <th>naics</th>\n",
       "      <th>naics_title</th>\n",
       "      <th>own_code</th>\n",
       "      <th>occ code</th>\n",
       "      <th>occ title</th>\n",
       "      <th>group</th>\n",
       "      <th>tot_emp</th>\n",
       "      <th>...</th>\n",
       "      <th>h_pct90</th>\n",
       "      <th>a_pct10</th>\n",
       "      <th>a_pct25</th>\n",
       "      <th>a_median</th>\n",
       "      <th>a_pct75</th>\n",
       "      <th>a_pct90</th>\n",
       "      <th>annual</th>\n",
       "      <th>hourly</th>\n",
       "      <th>year</th>\n",
       "      <th>stem_group</th>\n",
       "    </tr>\n",
       "  </thead>\n",
       "  <tbody>\n",
       "    <tr>\n",
       "      <th>0</th>\n",
       "      <td>99</td>\n",
       "      <td>U.S.</td>\n",
       "      <td>1</td>\n",
       "      <td>000000</td>\n",
       "      <td>Cross-industry</td>\n",
       "      <td>1235.0</td>\n",
       "      <td>00-0000</td>\n",
       "      <td>All Occupations</td>\n",
       "      <td>total</td>\n",
       "      <td>135128260</td>\n",
       "      <td>...</td>\n",
       "      <td>43.30</td>\n",
       "      <td>18350</td>\n",
       "      <td>22950</td>\n",
       "      <td>35540</td>\n",
       "      <td>57720</td>\n",
       "      <td>90060</td>\n",
       "      <td></td>\n",
       "      <td></td>\n",
       "      <td>2014</td>\n",
       "      <td>nonSTEM</td>\n",
       "    </tr>\n",
       "    <tr>\n",
       "      <th>1</th>\n",
       "      <td>99</td>\n",
       "      <td>U.S.</td>\n",
       "      <td>1</td>\n",
       "      <td>000000</td>\n",
       "      <td>Cross-industry</td>\n",
       "      <td>1235.0</td>\n",
       "      <td>11-0000</td>\n",
       "      <td>Management Occupations</td>\n",
       "      <td>major</td>\n",
       "      <td>6741640</td>\n",
       "      <td>...</td>\n",
       "      <td>#</td>\n",
       "      <td>46440</td>\n",
       "      <td>67080</td>\n",
       "      <td>97230</td>\n",
       "      <td>141150</td>\n",
       "      <td>#</td>\n",
       "      <td></td>\n",
       "      <td></td>\n",
       "      <td>2014</td>\n",
       "      <td>nonSTEM</td>\n",
       "    </tr>\n",
       "    <tr>\n",
       "      <th>2</th>\n",
       "      <td>99</td>\n",
       "      <td>U.S.</td>\n",
       "      <td>1</td>\n",
       "      <td>000000</td>\n",
       "      <td>Cross-industry</td>\n",
       "      <td>1235.0</td>\n",
       "      <td>11-1000</td>\n",
       "      <td>Top Executives</td>\n",
       "      <td>minor</td>\n",
       "      <td>2351130</td>\n",
       "      <td>...</td>\n",
       "      <td>#</td>\n",
       "      <td>43570</td>\n",
       "      <td>66270</td>\n",
       "      <td>100910</td>\n",
       "      <td>158980</td>\n",
       "      <td>#</td>\n",
       "      <td></td>\n",
       "      <td></td>\n",
       "      <td>2014</td>\n",
       "      <td>nonSTEM</td>\n",
       "    </tr>\n",
       "    <tr>\n",
       "      <th>3</th>\n",
       "      <td>99</td>\n",
       "      <td>U.S.</td>\n",
       "      <td>1</td>\n",
       "      <td>000000</td>\n",
       "      <td>Cross-industry</td>\n",
       "      <td>1235.0</td>\n",
       "      <td>11-1010</td>\n",
       "      <td>Chief Executives</td>\n",
       "      <td>broad</td>\n",
       "      <td>246240</td>\n",
       "      <td>...</td>\n",
       "      <td>#</td>\n",
       "      <td>72750</td>\n",
       "      <td>110760</td>\n",
       "      <td>173320</td>\n",
       "      <td>#</td>\n",
       "      <td>#</td>\n",
       "      <td></td>\n",
       "      <td></td>\n",
       "      <td>2014</td>\n",
       "      <td>nonSTEM</td>\n",
       "    </tr>\n",
       "    <tr>\n",
       "      <th>4</th>\n",
       "      <td>99</td>\n",
       "      <td>U.S.</td>\n",
       "      <td>1</td>\n",
       "      <td>000000</td>\n",
       "      <td>Cross-industry</td>\n",
       "      <td>1235.0</td>\n",
       "      <td>11-1011</td>\n",
       "      <td>Chief Executives</td>\n",
       "      <td>detail</td>\n",
       "      <td>246240</td>\n",
       "      <td>...</td>\n",
       "      <td>#</td>\n",
       "      <td>72750</td>\n",
       "      <td>110760</td>\n",
       "      <td>173320</td>\n",
       "      <td>#</td>\n",
       "      <td>#</td>\n",
       "      <td></td>\n",
       "      <td></td>\n",
       "      <td>2014</td>\n",
       "      <td>nonSTEM</td>\n",
       "    </tr>\n",
       "  </tbody>\n",
       "</table>\n",
       "<p>5 rows × 31 columns</p>\n",
       "</div>"
      ],
      "text/plain": [
       "   area area_title  area_type   naics     naics_title  own_code occ code  \\\n",
       "0    99       U.S.          1  000000  Cross-industry    1235.0  00-0000   \n",
       "1    99       U.S.          1  000000  Cross-industry    1235.0  11-0000   \n",
       "2    99       U.S.          1  000000  Cross-industry    1235.0  11-1000   \n",
       "3    99       U.S.          1  000000  Cross-industry    1235.0  11-1010   \n",
       "4    99       U.S.          1  000000  Cross-industry    1235.0  11-1011   \n",
       "\n",
       "                occ title   group    tot_emp  ... h_pct90 a_pct10 a_pct25  \\\n",
       "0         All Occupations   total  135128260  ...   43.30   18350   22950   \n",
       "1  Management Occupations   major    6741640  ...       #   46440   67080   \n",
       "2          Top Executives   minor    2351130  ...       #   43570   66270   \n",
       "3        Chief Executives   broad     246240  ...       #   72750  110760   \n",
       "4        Chief Executives  detail     246240  ...       #   72750  110760   \n",
       "\n",
       "  a_median a_pct75 a_pct90 annual hourly  year stem_group  \n",
       "0    35540   57720   90060                2014    nonSTEM  \n",
       "1    97230  141150       #                2014    nonSTEM  \n",
       "2   100910  158980       #                2014    nonSTEM  \n",
       "3   173320       #       #                2014    nonSTEM  \n",
       "4   173320       #       #                2014    nonSTEM  \n",
       "\n",
       "[5 rows x 31 columns]"
      ]
     },
     "execution_count": 56,
     "metadata": {},
     "output_type": "execute_result"
    }
   ],
   "source": [
    "df1.head()"
   ]
  },
  {
   "cell_type": "code",
   "execution_count": 57,
   "id": "b0c88a87",
   "metadata": {},
   "outputs": [
    {
     "data": {
      "text/plain": [
       "array(['nonSTEM', 'STEM'], dtype=object)"
      ]
     },
     "execution_count": 57,
     "metadata": {},
     "output_type": "execute_result"
    }
   ],
   "source": [
    "df1.stem_group.unique()"
   ]
  },
  {
   "cell_type": "code",
   "execution_count": 58,
   "id": "bfbc0639",
   "metadata": {},
   "outputs": [],
   "source": [
    "df1.to_csv('C:/Users/Jen/Desktop/DesignLab/stem_occupations.csv')"
   ]
  },
  {
   "cell_type": "code",
   "execution_count": null,
   "id": "becb6066",
   "metadata": {},
   "outputs": [],
   "source": []
  },
  {
   "cell_type": "code",
   "execution_count": null,
   "id": "f13170cd",
   "metadata": {},
   "outputs": [],
   "source": []
  }
 ],
 "metadata": {
  "kernelspec": {
   "display_name": "Python 3 (ipykernel)",
   "language": "python",
   "name": "python3"
  },
  "language_info": {
   "codemirror_mode": {
    "name": "ipython",
    "version": 3
   },
   "file_extension": ".py",
   "mimetype": "text/x-python",
   "name": "python",
   "nbconvert_exporter": "python",
   "pygments_lexer": "ipython3",
   "version": "3.9.12"
  }
 },
 "nbformat": 4,
 "nbformat_minor": 5
}
